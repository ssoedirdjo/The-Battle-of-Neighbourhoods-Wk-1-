{
 "cells": [
  {
   "cell_type": "markdown",
   "metadata": {},
   "source": [
    "# ANALYSIS OF RESIDENTIAL BUSINESS OPPORTUNITY IN JAKARTA"
   ]
  },
  {
   "cell_type": "markdown",
   "metadata": {},
   "source": [
    "### 1. Introduction"
   ]
  },
  {
   "cell_type": "markdown",
   "metadata": {},
   "source": [
    "Housing is always be an issue in a big city such as Jakarta, Indonesia. Jakarta is the largest city of Indonesia which also counted as a province. With total population of 10,770,487 person according to 2019 census and annual population grew of 3.7%, the demand of housing is significant since the area designated for residential area is not growing.\n",
    "\n",
    "Two key factors are needed to evaluate the opportunity of residential business in Jakarta, number of residential building and population density in each region. Jakarta is divided into 5 regions, i.e. Jakarta Pusat, Jakarta Utara, Jakarta Timur, Jakarta Selatan, and Jakarta Barat. Based on census data in 2017, the population density is not similar between regions. Therefore, other than the number of available residential building, the demand of housing might also varied between regions.\n",
    "\n",
    "While the population density can be obtained from the wikipedia, the number of residential building in each region can be obtained by levering the data base of locations such as Foursquare. By knowing the number of residential building in each region and its population density, this project would like to seek the opportunity of residential business in Jakarta."
   ]
  },
  {
   "cell_type": "markdown",
   "metadata": {},
   "source": [
    "### 2. Data"
   ]
  },
  {
   "cell_type": "markdown",
   "metadata": {},
   "source": [
    "This project would like to elaborate the colleration between population density and number of residential building to elucidate the opportunity of residential business in Jakarta.\n",
    "\n",
    "Other than population density in each region, the data on number of residential building located in each region is also needed. The population density data can be obtained from wikipedia while the data on location of the residential building will be extracted from the Foursquare location data.\n",
    "\n",
    "The process will start with scrapping the division of Jakarta into its district and subdistrict from a wikipedia site (https://id.wikipedia.org/wiki/Daftar_kecamatan_dan_kelurahan_di_Daerah_Khusus_Ibukota_Jakarta). The first five data of the division of Jakarta into its district and subdistrict is shown in the following table.\n",
    "\n",
    "| Region | District | SubDistrict |\n",
    "| --- | --- | --- |\n",
    "| Jakarta Pusat | Cempaka Putih | Cempaka Putih Barat |\n",
    "| Jakarta Pusat | Cempaka Putih | Cempaka Putih Timur |\n",
    "| Jakarta Pusat | Cempaka Putih | Rawasari |\n",
    "| Jakarta Pusat | Gambir | Cideng |\n",
    "| Jakarta Pusat | Gambir | Duri Pulo |\n",
    "\n",
    "Then, the geopy library will be used to obtain the coordinate location of each sub-district. For instance, the coordinate of each district in the previous table are shown as follows.\n",
    "\n",
    "| SubDistrict | Latitude | Longitude |\n",
    "| --- | --- | --- |\n",
    "| Cempaka Putih Barat | -6.178733 | 106.862485 |\n",
    "| Cempaka Putih Timur | -6.177633 | 106.870449 |\n",
    "| Rawasari | -6.190680 | 106.866450 |\n",
    "| Cideng | -6.174860 | 106.809150 |\n",
    "| Duri Pulo | -6.161660 | 106.808114 |\n",
    "\n",
    "For each subdistrict, the data of residential building is then extracted from Foursquare within area with radius of 2 km from the coordinate of the subdistrict."
   ]
  }
 ],
 "metadata": {
  "kernelspec": {
   "display_name": "Python 3",
   "language": "python",
   "name": "python3"
  },
  "language_info": {
   "codemirror_mode": {
    "name": "ipython",
    "version": 3
   },
   "file_extension": ".py",
   "mimetype": "text/x-python",
   "name": "python",
   "nbconvert_exporter": "python",
   "pygments_lexer": "ipython3",
   "version": "3.8.3"
  }
 },
 "nbformat": 4,
 "nbformat_minor": 4
}
